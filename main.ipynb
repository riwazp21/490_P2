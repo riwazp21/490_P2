{
 "cells": [
  {
   "cell_type": "code",
   "execution_count": 41,
   "id": "d1de1185-84e4-4ef5-99f3-ddd88ff7f8ad",
   "metadata": {},
   "outputs": [],
   "source": [
    "import os\n",
    "import torch\n",
    "import torchvision\n",
    "import torchvision.datasets as datasets\n",
    "import torchvision.transforms as transforms\n",
    "import torch.optim as optim\n",
    "import torch.nn as nn\n",
    "import torch.nn.functional as F\n",
    "from torch.utils.data import Dataset, DataLoader"
   ]
  },
  {
   "cell_type": "code",
   "execution_count": 42,
   "id": "69832d33-638f-45f6-ad87-4ca5af1b9300",
   "metadata": {},
   "outputs": [],
   "source": [
    "def merge_dna_files(positive_file, negative_file):\n",
    "    with open(positive_file, 'r') as pos_file, open(negative_file, 'r') as neg_file:\n",
    "        pos_lines = pos_file.readlines()\n",
    "        neg_lines = neg_file.readlines()\n",
    "\n",
    "    # Determine the file with the lowest number of lines\n",
    "    min_lines = min(len(pos_lines), len(neg_lines))\n",
    "\n",
    "    # Merge the files alternately\n",
    "    merged_lines = []\n",
    "    for i in range(min_lines):\n",
    "        if(i!=0):\n",
    "            merged_lines.append(f'1 {pos_lines[i].strip()}')  # Label positive lines with 1\n",
    "            merged_lines.append(f'0 {neg_lines[i].strip()}')  # Label negative lines with 0\n",
    "\n",
    "    # Write merged lines to a new file\n",
    "    \n",
    "    output_file = os.path.join('Merge',\"merged_file.txt\")\n",
    "    with open(output_file, 'w') as merged_file:\n",
    "        merged_file.write('\\n'.join(merged_lines))\n",
    "    return merged_lines"
   ]
  },
  {
   "cell_type": "code",
   "execution_count": 43,
   "id": "437f8847-38fb-41b5-b5e6-6f112f618d81",
   "metadata": {},
   "outputs": [
    {
     "name": "stdout",
     "output_type": "stream",
     "text": [
      "194\n",
      "204\n",
      "196\n",
      "190\n",
      "225\n",
      "182\n",
      "178\n",
      "196\n",
      "191\n",
      "187\n"
     ]
    }
   ],
   "source": [
    "#Figuring out all the file situation and merging it\n",
    "directory = \"Output/Access\"\n",
    "neg_directory = \"Output/NonAccess\"\n",
    "files = os.listdir(directory)\n",
    "trim_line = 350 \n",
    "final_lines = []\n",
    "for file in files:\n",
    "    if (file.endswith(\".csv\")):\n",
    "        positive_file = file\n",
    "        negative_file = file.replace(\"_output.csv\",\"_in_output.csv\")\n",
    "        positive_directory = os.path.join(directory,positive_file)\n",
    "        negative_directory = os.path.join(neg_directory,negative_file)\n",
    "        merged_lines = merge_dna_files(positive_directory,negative_directory)\n",
    "        print (len(merged_lines[1].split()[1]))\n",
    "        final_lines = final_lines + merged_lines"
   ]
  },
  {
   "cell_type": "code",
   "execution_count": 44,
   "id": "8d993d31-1141-4be3-a728-011fb3bd6e77",
   "metadata": {},
   "outputs": [],
   "source": [
    "i = 0\n",
    "cleaned_lines = []\n",
    "for line in final_lines:\n",
    "    try:\n",
    "        atgc = line.split()[1]\n",
    "        new_atgc = atgc[:178]\n",
    "        line = final_lines[i].replace(atgc,new_atgc)\n",
    "        cleaned_lines.append(line)\n",
    "    except IndexError:\n",
    "        pass\n",
    "    i = i + 1\n"
   ]
  },
  {
   "cell_type": "code",
   "execution_count": 45,
   "id": "f77d948a-062a-44bd-bfe1-8d8079782f6a",
   "metadata": {},
   "outputs": [
    {
     "name": "stdout",
     "output_type": "stream",
     "text": [
      "179382\n"
     ]
    }
   ],
   "source": [
    "print(len(cleaned_lines))"
   ]
  },
  {
   "cell_type": "code",
   "execution_count": 46,
   "id": "d0f8d749-383c-4289-86ea-fd3d1e7f7cdb",
   "metadata": {},
   "outputs": [],
   "source": [
    "#One-hot-encoding stuff\n",
    "import numpy as np\n",
    "\n",
    "bases = 'ATGC'\n",
    "one_hot_encode = []\n",
    "max_seq_length = max(len(line.split(' ', 1)[1]) for line in cleaned_lines)\n",
    "for line in cleaned_lines:\n",
    "        label, dna_sequence = line.split(' ', 1)\n",
    "        label = int(label)\n",
    "        dna_one_hot = np.zeros((4, max_seq_length),dtype=np.float64)\n",
    "        for i, base in enumerate(dna_sequence):\n",
    "            if base.upper() in bases:\n",
    "                idx = bases.index(base.upper())\n",
    "                dna_one_hot[idx, i] = 1.0\n",
    "        one_hot_encode.append((label, dna_one_hot))\n"
   ]
  },
  {
   "cell_type": "code",
   "execution_count": 47,
   "id": "f368c347-bc37-4df0-8a85-3679eada1d50",
   "metadata": {},
   "outputs": [
    {
     "name": "stdout",
     "output_type": "stream",
     "text": [
      "(1, array([[0., 0., 0., 0., 0., 0., 0., 0., 0., 0., 0., 1., 0., 0., 0., 0.,\n",
      "        0., 0., 1., 0., 0., 1., 0., 1., 0., 0., 1., 1., 0., 0., 0., 0.,\n",
      "        1., 1., 0., 0., 0., 0., 0., 0., 1., 0., 0., 0., 0., 1., 0., 0.,\n",
      "        0., 0., 0., 0., 0., 0., 0., 0., 0., 1., 0., 1., 1., 0., 0., 0.,\n",
      "        0., 0., 0., 0., 0., 0., 0., 0., 0., 0., 0., 0., 0., 1., 0., 0.,\n",
      "        0., 0., 0., 0., 0., 0., 0., 0., 0., 0., 1., 0., 0., 0., 0., 0.,\n",
      "        0., 0., 0., 0., 0., 0., 0., 0., 0., 0., 0., 0., 0., 0., 0., 0.,\n",
      "        0., 0., 0., 0., 0., 0., 0., 0., 0., 0., 1., 0., 0., 0., 0., 0.,\n",
      "        1., 0., 0., 0., 0., 1., 0., 0., 0., 0., 0., 0., 0., 0., 1., 0.,\n",
      "        0., 0., 0., 0., 0., 0., 0., 0., 0., 1., 0., 0., 0., 0., 1., 1.,\n",
      "        0., 0., 0., 0., 0., 0., 0., 0., 0., 0., 0., 0., 0., 1., 0., 0.,\n",
      "        0., 0.],\n",
      "       [0., 0., 0., 0., 1., 0., 0., 0., 0., 0., 0., 0., 0., 0., 1., 0.,\n",
      "        0., 0., 0., 1., 0., 0., 0., 0., 0., 0., 0., 0., 0., 0., 0., 0.,\n",
      "        0., 0., 0., 0., 0., 1., 0., 0., 0., 0., 0., 0., 0., 0., 0., 1.,\n",
      "        1., 0., 0., 0., 0., 0., 0., 0., 0., 0., 0., 0., 0., 1., 0., 0.,\n",
      "        0., 0., 0., 0., 0., 0., 0., 0., 1., 0., 0., 0., 0., 0., 0., 1.,\n",
      "        1., 0., 0., 0., 0., 0., 0., 0., 0., 0., 0., 0., 0., 0., 0., 0.,\n",
      "        0., 0., 0., 0., 0., 0., 1., 1., 1., 0., 0., 0., 0., 0., 0., 0.,\n",
      "        0., 0., 0., 0., 0., 0., 0., 0., 0., 0., 0., 0., 0., 0., 0., 0.,\n",
      "        0., 0., 0., 0., 0., 0., 0., 1., 0., 0., 0., 1., 0., 1., 0., 1.,\n",
      "        0., 0., 1., 1., 0., 1., 0., 0., 0., 0., 0., 0., 0., 0., 0., 0.,\n",
      "        0., 0., 0., 0., 0., 0., 0., 0., 0., 0., 0., 1., 0., 0., 0., 0.,\n",
      "        0., 0.],\n",
      "       [0., 1., 1., 0., 0., 0., 0., 0., 0., 1., 0., 0., 1., 0., 0., 1.,\n",
      "        0., 0., 0., 0., 1., 0., 0., 0., 0., 0., 0., 0., 0., 0., 0., 1.,\n",
      "        0., 0., 1., 0., 1., 0., 1., 0., 0., 0., 0., 0., 0., 0., 0., 0.,\n",
      "        0., 0., 0., 1., 1., 0., 0., 0., 0., 0., 1., 0., 0., 0., 1., 0.,\n",
      "        0., 1., 0., 1., 0., 1., 1., 0., 0., 1., 0., 1., 0., 0., 0., 0.,\n",
      "        0., 0., 0., 1., 0., 0., 1., 0., 0., 0., 0., 1., 1., 0., 0., 0.,\n",
      "        0., 1., 0., 0., 0., 0., 0., 0., 0., 0., 0., 0., 0., 1., 0., 0.,\n",
      "        0., 0., 1., 0., 0., 1., 0., 1., 0., 0., 0., 0., 1., 0., 0., 0.,\n",
      "        0., 1., 0., 0., 1., 0., 1., 0., 1., 1., 0., 0., 0., 0., 0., 0.,\n",
      "        1., 1., 0., 0., 0., 0., 0., 0., 1., 0., 0., 0., 1., 0., 0., 0.,\n",
      "        0., 1., 0., 0., 1., 1., 0., 1., 1., 0., 0., 0., 0., 0., 1., 1.,\n",
      "        1., 0.],\n",
      "       [1., 0., 0., 1., 0., 1., 1., 1., 1., 0., 1., 0., 0., 1., 0., 0.,\n",
      "        1., 1., 0., 0., 0., 0., 1., 0., 1., 1., 0., 0., 1., 1., 1., 0.,\n",
      "        0., 0., 0., 1., 0., 0., 0., 1., 0., 1., 1., 1., 1., 0., 1., 0.,\n",
      "        0., 1., 1., 0., 0., 1., 1., 1., 1., 0., 0., 0., 0., 0., 0., 1.,\n",
      "        1., 0., 1., 0., 1., 0., 0., 1., 0., 0., 1., 0., 1., 0., 1., 0.,\n",
      "        0., 1., 1., 0., 1., 1., 0., 1., 1., 1., 0., 0., 0., 1., 1., 1.,\n",
      "        1., 0., 1., 1., 1., 1., 0., 0., 0., 1., 1., 1., 1., 0., 1., 1.,\n",
      "        1., 1., 0., 1., 1., 0., 1., 0., 1., 1., 0., 1., 0., 1., 1., 1.,\n",
      "        0., 0., 1., 1., 0., 0., 0., 0., 0., 0., 1., 0., 1., 0., 0., 0.,\n",
      "        0., 0., 0., 0., 1., 0., 1., 1., 0., 0., 1., 1., 0., 1., 0., 0.,\n",
      "        1., 0., 1., 1., 0., 0., 1., 0., 0., 1., 1., 0., 1., 0., 0., 0.,\n",
      "        0., 1.]]))\n"
     ]
    }
   ],
   "source": [
    "print(one_hot_encode[2])"
   ]
  },
  {
   "cell_type": "code",
   "execution_count": 77,
   "id": "a74e1596-d33c-4a2f-9708-393011abfdf7",
   "metadata": {},
   "outputs": [
    {
     "name": "stdout",
     "output_type": "stream",
     "text": [
      "143505 35877\n"
     ]
    }
   ],
   "source": [
    "#Splitting the data into train and test\n",
    "split_index = int(len(one_hot_encode)*0.8)\n",
    "\n",
    "train_data_raw = one_hot_encode[:split_index]\n",
    "test_data_raw = one_hot_encode[split_index:]\n",
    "\n",
    "#Making the data less to figure stuff out\n",
    "train_data_raw_main = one_hot_encode[:800]\n",
    "test_data_raw_main = one_hot_encode[800:1000]\n",
    "\n",
    "print(len(train_data_raw),len(test_data_raw))\n",
    "\n",
    "\n",
    "train_data = [sublist[1] for sublist in train_data_raw]\n",
    "train_data = np.array(train_data)\n",
    "test_data = [sublist[1] for sublist in test_data_raw]\n",
    "test_data = np.array(test_data)\n",
    "train_labels = [sublist[0] for sublist in train_data_raw]\n",
    "test_labels = [sublist[0] for sublist in test_data_raw]\n"
   ]
  },
  {
   "cell_type": "code",
   "execution_count": 78,
   "id": "cc2be95c-8452-4b58-b638-ac29dfccd3fc",
   "metadata": {},
   "outputs": [],
   "source": [
    "#The most important class. Creates a custom dataset\n",
    "class data_class(Dataset):\n",
    "    def __init__(self,data,label):\n",
    "        data= torch.tensor(data)\n",
    "        self.data = data\n",
    "        labels=torch.tensor(label,dtype=torch.double)\n",
    "        self.labels = labels\n",
    "        \n",
    "\n",
    "    def __len__(self):\n",
    "        return len(self.data)\n",
    "    \n",
    "    def __getitem__(self,id):\n",
    "        data_set=self.data[id]\n",
    "        labels=self.labels[id]\n",
    "\n",
    "        return data_set,labels"
   ]
  },
  {
   "cell_type": "code",
   "execution_count": 79,
   "id": "c3cc4116-6c56-4d8a-a8e8-3f93de3bfa10",
   "metadata": {},
   "outputs": [],
   "source": [
    "train_data_main = data_class(train_data,train_labels)\n",
    "test_data_main = data_class(test_data,test_labels)\n",
    "\n",
    "first_data, first_label = train_data_main.__getitem__(0)"
   ]
  },
  {
   "cell_type": "code",
   "execution_count": 80,
   "id": "f17dc080-053e-402b-866c-f79ef29aab22",
   "metadata": {},
   "outputs": [
    {
     "name": "stdout",
     "output_type": "stream",
     "text": [
      "tensor([[0., 0., 0., 0., 0., 0., 0., 0., 1., 1., 0., 0., 0., 0., 0., 0., 0., 0.,\n",
      "         0., 0., 0., 0., 0., 0., 1., 1., 0., 0., 0., 0., 0., 0., 0., 0., 0., 0.,\n",
      "         0., 0., 0., 0., 0., 0., 0., 0., 0., 0., 1., 1., 0., 0., 0., 0., 0., 0.,\n",
      "         0., 0., 0., 0., 0., 0., 0., 0., 0., 0., 0., 0., 0., 0., 1., 1., 0., 0.,\n",
      "         0., 0., 0., 0., 0., 0., 0., 0., 0., 0., 0., 0., 0., 0., 0., 0., 0., 0.,\n",
      "         1., 1., 0., 0., 0., 0., 0., 0., 0., 0., 0., 0., 0., 0., 0., 0., 1., 1.,\n",
      "         0., 0., 0., 0., 0., 0., 0., 0., 0., 0., 0., 0., 0., 0., 0., 0., 0., 0.,\n",
      "         0., 0., 1., 1., 0., 0., 0., 0., 0., 0., 0., 0., 0., 0., 0., 0., 0., 0.,\n",
      "         0., 1., 0., 0., 0., 0., 0., 0., 0., 0., 0., 0., 0., 1., 0., 0., 0., 0.,\n",
      "         0., 0., 1., 0., 0., 0., 0., 0., 0., 0., 1., 0., 0., 1., 0., 0.],\n",
      "        [0., 1., 0., 0., 1., 0., 0., 0., 0., 0., 0., 0., 1., 0., 0., 0., 0., 1.,\n",
      "         0., 0., 1., 0., 0., 0., 0., 0., 0., 0., 0., 0., 0., 0., 0., 0., 0., 0.,\n",
      "         0., 0., 0., 1., 0., 0., 1., 0., 0., 0., 0., 0., 0., 0., 0., 0., 0., 0.,\n",
      "         0., 1., 0., 0., 1., 0., 0., 1., 0., 0., 1., 0., 0., 0., 0., 0., 0., 0.,\n",
      "         0., 0., 0., 0., 0., 0., 0., 0., 1., 0., 0., 1., 0., 0., 1., 0., 0., 0.,\n",
      "         0., 0., 0., 0., 1., 0., 0., 0., 0., 0., 0., 0., 1., 0., 0., 0., 0., 0.,\n",
      "         0., 0., 1., 0., 0., 0., 0., 0., 0., 0., 0., 0., 0., 1., 0., 0., 1., 0.,\n",
      "         0., 0., 0., 0., 0., 0., 1., 0., 0., 0., 0., 0., 0., 1., 1., 0., 0., 0.,\n",
      "         0., 0., 0., 0., 0., 0., 0., 0., 0., 0., 0., 0., 0., 0., 0., 0., 0., 0.,\n",
      "         0., 0., 0., 0., 1., 0., 0., 0., 0., 0., 0., 0., 0., 0., 0., 0.],\n",
      "        [0., 0., 0., 0., 0., 0., 0., 1., 0., 0., 0., 1., 0., 1., 1., 0., 0., 0.,\n",
      "         0., 0., 0., 0., 0., 1., 0., 0., 0., 1., 0., 1., 1., 0., 0., 1., 0., 0.,\n",
      "         1., 0., 0., 0., 0., 0., 0., 0., 0., 1., 0., 0., 0., 1., 0., 1., 1., 0.,\n",
      "         0., 0., 0., 0., 0., 0., 0., 0., 0., 0., 0., 0., 0., 1., 0., 0., 0., 1.,\n",
      "         0., 1., 1., 0., 0., 1., 0., 0., 0., 0., 0., 0., 0., 0., 0., 0., 0., 1.,\n",
      "         0., 0., 0., 1., 0., 1., 1., 0., 0., 1., 0., 0., 0., 0., 0., 1., 0., 0.,\n",
      "         0., 1., 0., 1., 1., 0., 0., 1., 0., 0., 1., 0., 0., 0., 0., 0., 0., 0.,\n",
      "         0., 1., 0., 0., 0., 1., 0., 1., 1., 0., 0., 1., 0., 0., 0., 0., 0., 1.,\n",
      "         0., 0., 1., 0., 1., 0., 0., 0., 1., 1., 0., 1., 0., 0., 1., 1., 0., 0.,\n",
      "         1., 0., 0., 0., 0., 0., 0., 1., 0., 0., 0., 0., 0., 0., 1., 1.],\n",
      "        [1., 0., 1., 1., 0., 1., 1., 0., 0., 0., 1., 0., 0., 0., 0., 1., 1., 0.,\n",
      "         1., 1., 0., 1., 1., 0., 0., 0., 1., 0., 1., 0., 0., 1., 1., 0., 1., 1.,\n",
      "         0., 1., 1., 0., 1., 1., 0., 1., 1., 0., 0., 0., 1., 0., 1., 0., 0., 1.,\n",
      "         1., 0., 1., 1., 0., 1., 1., 0., 1., 1., 0., 1., 1., 0., 0., 0., 1., 0.,\n",
      "         1., 0., 0., 1., 1., 0., 1., 1., 0., 1., 1., 0., 1., 1., 0., 1., 1., 0.,\n",
      "         0., 0., 1., 0., 0., 0., 0., 1., 1., 0., 1., 1., 0., 1., 1., 0., 0., 0.,\n",
      "         1., 0., 0., 0., 0., 1., 1., 0., 1., 1., 0., 1., 1., 0., 1., 1., 0., 1.,\n",
      "         1., 0., 0., 0., 1., 0., 0., 0., 0., 1., 1., 0., 1., 0., 0., 1., 1., 0.,\n",
      "         1., 0., 0., 1., 0., 1., 1., 1., 0., 0., 1., 0., 1., 0., 0., 0., 1., 1.,\n",
      "         0., 1., 0., 1., 0., 1., 1., 0., 1., 1., 0., 1., 1., 0., 0., 0.]],\n",
      "       dtype=torch.float64) tensor(1., dtype=torch.float64)\n"
     ]
    }
   ],
   "source": [
    "print(first_data,first_label)"
   ]
  },
  {
   "cell_type": "code",
   "execution_count": 81,
   "id": "bd938bf1-f75b-46f3-aa87-fa81f3f0034f",
   "metadata": {},
   "outputs": [
    {
     "name": "stdout",
     "output_type": "stream",
     "text": [
      "tensor(0., dtype=torch.float64)\n"
     ]
    }
   ],
   "source": [
    "# Creating the data loader which is going to load the data to the AI model\n",
    "\n",
    "train_dataloader=DataLoader(train_data_main,batch_size=2,shuffle=True)\n",
    "test_dataloader=DataLoader(test_data_main,batch_size=2,shuffle=True)\n",
    "for data,label in train_dataloader:\n",
    "    print(label[0])\n",
    "    break"
   ]
  },
  {
   "cell_type": "code",
   "execution_count": 82,
   "id": "807caf67-4e7b-4a20-9a6a-3f8b55d72cf7",
   "metadata": {},
   "outputs": [
    {
     "name": "stdout",
     "output_type": "stream",
     "text": [
      "tensor(1., dtype=torch.float64)\n"
     ]
    }
   ],
   "source": [
    "for data,label in train_data_main:\n",
    "    print(label)\n",
    "    break"
   ]
  },
  {
   "cell_type": "code",
   "execution_count": 83,
   "id": "c6eaec7c-73d3-4a97-96be-f4e217455d61",
   "metadata": {},
   "outputs": [],
   "source": [
    "class MiniCNN(torch.nn.Module):\n",
    "    def __init__(self):\n",
    "        super(MiniCNN, self).__init__()\n",
    "        self.conv1 = torch.nn.Conv1d(4, 6, kernel_size=5)\n",
    "        self.pool = torch.nn.MaxPool1d(kernel_size=2, stride=2)\n",
    "        self.conv2 = torch.nn.Conv1d(6, 16, kernel_size=3)\n",
    "        self.fc1 = torch.nn.Linear(16 * 42, 120)  # Input size calculated manually\n",
    "        self.fc2 = torch.nn.Linear(120, 2)\n",
    "\n",
    "    def forward(self, x):\n",
    "        x = x.float()\n",
    "        x = self.pool(torch.nn.functional.relu(self.conv1(x)))\n",
    "        x = self.pool(torch.nn.functional.relu(self.conv2(x)))\n",
    "        x = x.view(-1, 16 * 42)  # Reshape x to match the input size of fc1\n",
    "        x = torch.nn.functional.relu(self.fc1(x))\n",
    "        x = self.fc2(x)\n",
    "        return x"
   ]
  },
  {
   "cell_type": "code",
   "execution_count": 84,
   "id": "8097903f-c965-4043-8783-56a11c96895d",
   "metadata": {},
   "outputs": [],
   "source": [
    "class AlexNet(nn.Module):\n",
    "    def __init__(self):\n",
    "        super().__init__()\n",
    "        self.conv1 = nn.Conv1d(in_channels=4, out_channels=96, kernel_size=11, stride=4)\n",
    "        self.local_response1 = nn.LocalResponseNorm(size=5, alpha=0.0001, beta=0.75, k=2)\n",
    "        self.pool1 = nn.MaxPool1d(kernel_size=3, stride=2)\n",
    "        self.conv2 = nn.Conv1d(in_channels=96, out_channels=256, kernel_size=5, padding=2)\n",
    "        self.local_response2 = nn.LocalResponseNorm(size=5, alpha=0.0001, beta=0.75, k=2)\n",
    "        self.pool2 = nn.MaxPool1d(kernel_size=3, stride=2)\n",
    "        self.conv3 = nn.Conv1d(in_channels=256, out_channels=384, kernel_size=3, padding=1)\n",
    "        self.conv4 = nn.Conv1d(in_channels=384, out_channels=384, kernel_size=3, padding=1)\n",
    "        self.conv5 = nn.Conv1d(in_channels=384, out_channels=256, kernel_size=3, padding=1)\n",
    "        self.pool5 = nn.MaxPool1d(kernel_size=3, stride=2)\n",
    "        self.fc1 = nn.Linear(in_features= 1024, out_features=256)\n",
    "        self.fc2 = nn.Linear(in_features=256, out_features=4096)\n",
    "        self.fc3 = nn.Linear(in_features=4096, out_features=4)\n",
    "\n",
    "    def forward(self, x):\n",
    "        x = x.float()\n",
    "        x = self.pool1(F.relu(self.local_response1(self.conv1(x))))\n",
    "        x = self.pool2(F.relu(self.local_response2(self.conv2(x))))\n",
    "        x = F.relu(self.conv3(x))\n",
    "        x = F.relu(self.conv4(x))\n",
    "        x = self.pool5(F.relu(self.conv5(x)))\n",
    "        x = torch.flatten(x, 1)  # flatten all dimensions except batch\n",
    "        x = F.relu(self.fc1(x))\n",
    "        x = F.dropout(x, 0.5)\n",
    "        x = F.relu(self.fc2(x))\n",
    "        x = F.dropout(x, 0.5)\n",
    "        x = self.fc3(x)\n",
    "        return x\n"
   ]
  },
  {
   "cell_type": "code",
   "execution_count": 85,
   "id": "9b7476b9-f89a-41f6-a80a-828c5be1b49c",
   "metadata": {},
   "outputs": [
    {
     "name": "stdout",
     "output_type": "stream",
     "text": [
      "cuda\n"
     ]
    }
   ],
   "source": [
    "# Instantiating the model and assigning an optimizer to the model and creating a loss function\n",
    "device=torch.device('cuda')\n",
    "model=AlexNet().to(device)\n",
    "optimizer=optim.Adam(params=model.parameters(),lr=0.0001)\n",
    "loss_fn = nn.CrossEntropyLoss()\n",
    "print(device)"
   ]
  },
  {
   "cell_type": "code",
   "execution_count": 86,
   "id": "4c4ec717-dc6b-461c-85ec-a2cf6bd44f74",
   "metadata": {},
   "outputs": [],
   "source": [
    "def train(model,device,train_dataloader,optimizer,epochs):\n",
    "    print(\"inside train\")\n",
    "    model.train()\n",
    "    for batch_ids, (img, classes) in enumerate(train_dataloader):\n",
    "        classes=classes.type(torch.LongTensor)\n",
    "        img,classes=img.to(device),classes.to(device)\n",
    "        torch.autograd.set_detect_anomaly(True)     \n",
    "        optimizer.zero_grad()\n",
    "        output=model(img)\n",
    "        loss = loss_fn(output,classes)                \n",
    "        \n",
    "        loss.backward()\n",
    "        optimizer.step()\n",
    "    if(batch_ids +1) % 2 == 0:\n",
    "        print(\"Train Epoch: {} [{}/{} ({:.0f}%)]\\tLoss: {:.6f}\".format(\n",
    "            epochs, batch_ids* len(img), len(train_dataloader.dataset),\n",
    "            100.*batch_ids / len(train_dataloader),loss.item()))"
   ]
  },
  {
   "cell_type": "code",
   "execution_count": 87,
   "id": "0711129e-e854-4b55-8225-be3fc455f0c5",
   "metadata": {},
   "outputs": [],
   "source": [
    "def test(model, device, test_dataloader):\n",
    "    model.eval()\n",
    "    test_loss = 0\n",
    "    correct = 0\n",
    "    with torch.no_grad():\n",
    "        for img, classes in test_dataloader:\n",
    "            img, classes = img.to(device), classes.to(device)\n",
    "            y_hat = model(img)\n",
    "            # Move classes to the same device as y_hat and convert its data type if necessary\n",
    "            if y_hat.dtype != classes.dtype:\n",
    "                classes = classes.to(y_hat.dtype)\n",
    "            test_loss += F.nll_loss(y_hat, classes.long(), reduction='sum').item()\n",
    "            _, y_pred = torch.max(y_hat, 1)\n",
    "            correct += (y_pred == classes).sum().item()\n",
    "\n",
    "    test_loss /= len(test_dataloader.dataset)\n",
    "    print('\\nTest set: Average loss: {:.4f}, Accuracy: {}/{} ({:.0f}%)\\n'.format(\n",
    "        test_loss, correct, len(test_dataloader.dataset),\n",
    "        100. * correct / len(test_dataloader.dataset)))\n"
   ]
  },
  {
   "cell_type": "code",
   "execution_count": 88,
   "id": "c5d5c879-3d62-41c2-ae41-49869a9bf887",
   "metadata": {},
   "outputs": [
    {
     "name": "stdout",
     "output_type": "stream",
     "text": [
      "inside train\n",
      "\n",
      "Test set: Average loss: -0.4258, Accuracy: 22700/35877 (63%)\n",
      "\n"
     ]
    }
   ],
   "source": [
    "if __name__=='__main__':\n",
    "    seed=42\n",
    "    EPOCHS=1\n",
    "    for epoch in range(1,EPOCHS+1):\n",
    "        train(model,device,train_dataloader,optimizer,epoch)\n",
    "        test(model,device,test_dataloader)"
   ]
  },
  {
   "cell_type": "code",
   "execution_count": null,
   "id": "311ba82e-68e3-432e-afd1-f8e305a5150a",
   "metadata": {},
   "outputs": [],
   "source": []
  }
 ],
 "metadata": {
  "kernelspec": {
   "display_name": "Python [conda env:riwaz]",
   "language": "python",
   "name": "conda-env-riwaz-py"
  },
  "language_info": {
   "codemirror_mode": {
    "name": "ipython",
    "version": 3
   },
   "file_extension": ".py",
   "mimetype": "text/x-python",
   "name": "python",
   "nbconvert_exporter": "python",
   "pygments_lexer": "ipython3",
   "version": "3.7.12"
  }
 },
 "nbformat": 4,
 "nbformat_minor": 5
}
