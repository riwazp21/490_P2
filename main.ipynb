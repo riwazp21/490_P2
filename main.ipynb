{
 "cells": [
  {
   "cell_type": "code",
   "execution_count": 15,
   "id": "d1de1185-84e4-4ef5-99f3-ddd88ff7f8ad",
   "metadata": {},
   "outputs": [],
   "source": [
    "import pandas as pd\n",
    "import os"
   ]
  },
  {
   "cell_type": "code",
   "execution_count": 22,
   "id": "69832d33-638f-45f6-ad87-4ca5af1b9300",
   "metadata": {},
   "outputs": [],
   "source": [
    "def merge_dna_files(positive_file, negative_file):\n",
    "    with open(positive_file, 'r') as pos_file, open(negative_file, 'r') as neg_file:\n",
    "        pos_lines = pos_file.readlines()\n",
    "        neg_lines = neg_file.readlines()\n",
    "\n",
    "    # Determine the file with the lowest number of lines\n",
    "    min_lines = min(len(pos_lines), len(neg_lines))\n",
    "\n",
    "    # Merge the files alternately\n",
    "    merged_lines = []\n",
    "    for i in range(min_lines):\n",
    "        if(i!=0):\n",
    "            merged_lines.append(f'1 {pos_lines[i].strip()}')  # Label positive lines with 1\n",
    "            merged_lines.append(f'0 {neg_lines[i].strip()}')  # Label negative lines with 0\n",
    "\n",
    "    # Write merged lines to a new file\n",
    "    \n",
    "    output_file = os.path.join('Merge',\"merged_file.txt\")\n",
    "    with open(output_file, 'w') as merged_file:\n",
    "        merged_file.write('\\n'.join(merged_lines))\n",
    "    return merged_lines"
   ]
  },
  {
   "cell_type": "code",
   "execution_count": 23,
   "id": "8d993d31-1141-4be3-a728-011fb3bd6e77",
   "metadata": {},
   "outputs": [
    {
     "name": "stdout",
     "output_type": "stream",
     "text": [
      "1 gagccaccacagaaagcagaggtgcatccagcaccacagaaaacagagccaccacagaaaacagaggggtgactgtcatcccctccagtctctgcacactcccagctgcagcagagccggaggagagagcacagcctgcaatgctaatttgccaggagctcacatgcctgcgtcactg\n"
     ]
    }
   ],
   "source": [
    "merged_lines = merge_dna_files('Output/Access/ENCFF139HDN_output.csv','Output/NonAccess/ENCFF139HDN_in_output.csv')"
   ]
  },
  {
   "cell_type": "code",
   "execution_count": 52,
   "id": "d0f8d749-383c-4289-86ea-fd3d1e7f7cdb",
   "metadata": {},
   "outputs": [],
   "source": [
    "#One-hot-encoding stuff\n",
    "import numpy as np\n",
    "\n",
    "bases = 'ATGC'\n",
    "one_hot_encode = []\n",
    "max_seq_length = max(len(line.split(' ', 1)[1]) for line in merged_lines)\n",
    "for line in merged_lines:\n",
    "        label, dna_sequence = line.split(' ', 1)\n",
    "        label = int(label)\n",
    "        dna_one_hot = np.zeros((4, max_seq_length))\n",
    "        for i, base in enumerate(dna_sequence):\n",
    "            if base.upper() in bases:\n",
    "                idx = bases.index(base.upper())\n",
    "                dna_one_hot[idx, i] = 1\n",
    "        one_hot_encode.append((label, dna_one_hot))\n"
   ]
  },
  {
   "cell_type": "code",
   "execution_count": 53,
   "id": "3ed336b1-b055-4dff-9528-811d09a0b1c7",
   "metadata": {},
   "outputs": [
    {
     "name": "stdout",
     "output_type": "stream",
     "text": [
      "1 gagccaccacagaaagcagaggtgcatccagcaccacagaaaacagagccaccacagaaaacagaggggtgactgtcatcccctccagtctctgcacactcccagctgcagcagagccggaggagagagcacagcctgcaatgctaatttgccaggagctcacatgcctgcgtcactg\n"
     ]
    }
   ],
   "source": [
    "print(merged_lines[0])"
   ]
  },
  {
   "cell_type": "code",
   "execution_count": 57,
   "id": "f368c347-bc37-4df0-8a85-3679eada1d50",
   "metadata": {},
   "outputs": [
    {
     "name": "stdout",
     "output_type": "stream",
     "text": [
      "(1, array([[0., 1., 0., 0., 0., 1., 0., 0., 1., 0., 1., 0., 1., 1., 1., 0.,\n",
      "        0., 1., 0., 1., 0., 0., 0., 0., 0., 1., 0., 0., 0., 1., 0., 0.,\n",
      "        1., 0., 0., 1., 0., 1., 0., 1., 1., 1., 1., 0., 1., 0., 1., 0.,\n",
      "        0., 0., 1., 0., 0., 1., 0., 1., 0., 1., 1., 1., 1., 0., 1., 0.,\n",
      "        1., 0., 0., 0., 0., 0., 0., 1., 0., 0., 0., 0., 0., 1., 0., 0.,\n",
      "        0., 0., 0., 0., 0., 0., 1., 0., 0., 0., 0., 0., 0., 0., 0., 1.,\n",
      "        0., 1., 0., 0., 0., 0., 0., 1., 0., 0., 0., 0., 0., 1., 0., 0.,\n",
      "        1., 0., 1., 0., 0., 0., 0., 0., 1., 0., 0., 1., 0., 1., 0., 1.,\n",
      "        0., 0., 1., 0., 1., 0., 0., 0., 0., 0., 0., 1., 1., 0., 0., 0.,\n",
      "        0., 1., 1., 0., 0., 0., 0., 0., 0., 1., 0., 0., 1., 0., 0., 0.,\n",
      "        0., 1., 0., 1., 0., 0., 0., 0., 0., 0., 0., 0., 0., 0., 1., 0.,\n",
      "        0., 0.],\n",
      "       [0., 0., 0., 0., 0., 0., 0., 0., 0., 0., 0., 0., 0., 0., 0., 0.,\n",
      "        0., 0., 0., 0., 0., 0., 1., 0., 0., 0., 1., 0., 0., 0., 0., 0.,\n",
      "        0., 0., 0., 0., 0., 0., 0., 0., 0., 0., 0., 0., 0., 0., 0., 0.,\n",
      "        0., 0., 0., 0., 0., 0., 0., 0., 0., 0., 0., 0., 0., 0., 0., 0.,\n",
      "        0., 0., 0., 0., 0., 1., 0., 0., 0., 1., 0., 1., 0., 0., 1., 0.,\n",
      "        0., 0., 0., 1., 0., 0., 0., 0., 1., 0., 1., 0., 1., 0., 0., 0.,\n",
      "        0., 0., 0., 1., 0., 0., 0., 0., 0., 0., 1., 0., 0., 0., 0., 0.,\n",
      "        0., 0., 0., 0., 0., 0., 0., 0., 0., 0., 0., 0., 0., 0., 0., 0.,\n",
      "        0., 0., 0., 0., 0., 0., 0., 0., 1., 0., 0., 0., 0., 1., 0., 0.,\n",
      "        1., 0., 0., 1., 1., 1., 0., 0., 0., 0., 0., 0., 0., 0., 0., 1.,\n",
      "        0., 0., 0., 0., 1., 0., 0., 0., 1., 0., 0., 0., 1., 0., 0., 0.,\n",
      "        1., 0.],\n",
      "       [1., 0., 1., 0., 0., 0., 0., 0., 0., 0., 0., 1., 0., 0., 0., 1.,\n",
      "        0., 0., 1., 0., 1., 1., 0., 1., 0., 0., 0., 0., 0., 0., 1., 0.,\n",
      "        0., 0., 0., 0., 0., 0., 1., 0., 0., 0., 0., 0., 0., 1., 0., 1.,\n",
      "        0., 0., 0., 0., 0., 0., 0., 0., 1., 0., 0., 0., 0., 0., 0., 1.,\n",
      "        0., 1., 1., 1., 1., 0., 1., 0., 0., 0., 1., 0., 0., 0., 0., 0.,\n",
      "        0., 0., 0., 0., 0., 0., 0., 1., 0., 0., 0., 0., 0., 1., 0., 0.,\n",
      "        0., 0., 0., 0., 0., 0., 0., 0., 1., 0., 0., 1., 0., 0., 1., 0.,\n",
      "        0., 1., 0., 1., 0., 0., 1., 1., 0., 1., 1., 0., 1., 0., 1., 0.,\n",
      "        1., 0., 0., 0., 0., 1., 0., 0., 0., 1., 0., 0., 0., 0., 1., 0.,\n",
      "        0., 0., 0., 0., 0., 0., 1., 0., 0., 0., 1., 1., 0., 1., 0., 0.,\n",
      "        0., 0., 0., 0., 0., 1., 0., 0., 0., 1., 0., 1., 0., 0., 0., 0.,\n",
      "        0., 1.],\n",
      "       [0., 0., 0., 1., 1., 0., 1., 1., 0., 1., 0., 0., 0., 0., 0., 0.,\n",
      "        1., 0., 0., 0., 0., 0., 0., 0., 1., 0., 0., 1., 1., 0., 0., 1.,\n",
      "        0., 1., 1., 0., 1., 0., 0., 0., 0., 0., 0., 1., 0., 0., 0., 0.,\n",
      "        1., 1., 0., 1., 1., 0., 1., 0., 0., 0., 0., 0., 0., 1., 0., 0.,\n",
      "        0., 0., 0., 0., 0., 0., 0., 0., 1., 0., 0., 0., 1., 0., 0., 1.,\n",
      "        1., 1., 1., 0., 1., 1., 0., 0., 0., 1., 0., 1., 0., 0., 1., 0.,\n",
      "        1., 0., 1., 0., 1., 1., 1., 0., 0., 1., 0., 0., 1., 0., 0., 1.,\n",
      "        0., 0., 0., 0., 1., 1., 0., 0., 0., 0., 0., 0., 0., 0., 0., 0.,\n",
      "        0., 1., 0., 1., 0., 0., 1., 1., 0., 0., 1., 0., 0., 0., 0., 1.,\n",
      "        0., 0., 0., 0., 0., 0., 0., 1., 1., 0., 0., 0., 0., 0., 1., 0.,\n",
      "        1., 0., 1., 0., 0., 0., 1., 1., 0., 0., 1., 0., 0., 1., 0., 1.,\n",
      "        0., 0.]]))\n"
     ]
    }
   ],
   "source": [
    "print(one_hot_encode[0])"
   ]
  },
  {
   "cell_type": "code",
   "execution_count": null,
   "id": "a74e1596-d33c-4a2f-9708-393011abfdf7",
   "metadata": {},
   "outputs": [],
   "source": []
  }
 ],
 "metadata": {
  "kernelspec": {
   "display_name": "Python 3 (ipykernel)",
   "language": "python",
   "name": "python3"
  },
  "language_info": {
   "codemirror_mode": {
    "name": "ipython",
    "version": 3
   },
   "file_extension": ".py",
   "mimetype": "text/x-python",
   "name": "python",
   "nbconvert_exporter": "python",
   "pygments_lexer": "ipython3",
   "version": "3.12.2"
  }
 },
 "nbformat": 4,
 "nbformat_minor": 5
}
